{
  "nbformat": 4,
  "nbformat_minor": 0,
  "metadata": {
    "colab": {
      "provenance": [],
      "authorship_tag": "ABX9TyNiTygSmBhZSWufO3rjB5fk",
      "include_colab_link": true
    },
    "kernelspec": {
      "name": "python3",
      "display_name": "Python 3"
    },
    "language_info": {
      "name": "python"
    }
  },
  "cells": [
    {
      "cell_type": "markdown",
      "metadata": {
        "id": "view-in-github",
        "colab_type": "text"
      },
      "source": [
        "<a href=\"https://colab.research.google.com/github/kailasa-Nischal/GRU_implementation_in_C/blob/main/GRU_implementation.ipynb\" target=\"_parent\"><img src=\"https://colab.research.google.com/assets/colab-badge.svg\" alt=\"Open In Colab\"/></a>"
      ]
    },
    {
      "cell_type": "code",
      "source": [],
      "metadata": {
        "id": "Z_iJGiujgF8p"
      },
      "execution_count": null,
      "outputs": []
    },
    {
      "cell_type": "code",
      "execution_count": 21,
      "metadata": {
        "colab": {
          "base_uri": "https://localhost:8080/"
        },
        "id": "T7tlJG_QqAUL",
        "outputId": "d26cf75a-f7cb-43dd-d51b-452a7b6a5ab8"
      },
      "outputs": [
        {
          "output_type": "stream",
          "name": "stdout",
          "text": [
            "Enter the number of sequences: 2\n",
            "Enter the number of time frames per sequence: 7\n",
            "Enter the input size: 4\n",
            "Enter the hidden size: 5\n",
            "Enter words for sequence 1: erripappa\n",
            "Enter words for sequence 2: /content/txt\n",
            "Word Index (Tokenization):\n",
            "Word: erripappa - Token: 1\n",
            "Word: content - Token: 2\n",
            "Word: txt - Token: 3\n",
            "\n",
            "Sequences of Tokens:\n",
            "Sequence 1: [1]\n",
            "Sequence 2: [2, 3]\n",
            "\n",
            "Padded Sequences of Tokens:\n",
            "Sequence 1: [1 0 0 0 0 0 0]\n",
            "Sequence 2: [2 3 0 0 0 0 0]\n",
            "\n",
            "Vocabulary Size: 4\n",
            "Epoch 1/5\n",
            "\u001b[1m1/1\u001b[0m \u001b[32m━━━━━━━━━━━━━━━━━━━━\u001b[0m\u001b[37m\u001b[0m \u001b[1m4s\u001b[0m 4s/step - loss: 7.7250\n",
            "Epoch 2/5\n",
            "\u001b[1m1/1\u001b[0m \u001b[32m━━━━━━━━━━━━━━━━━━━━\u001b[0m\u001b[37m\u001b[0m \u001b[1m0s\u001b[0m 40ms/step - loss: 7.7261\n",
            "Epoch 3/5\n",
            "\u001b[1m1/1\u001b[0m \u001b[32m━━━━━━━━━━━━━━━━━━━━\u001b[0m\u001b[37m\u001b[0m \u001b[1m0s\u001b[0m 41ms/step - loss: 7.7273\n",
            "Epoch 4/5\n",
            "\u001b[1m1/1\u001b[0m \u001b[32m━━━━━━━━━━━━━━━━━━━━\u001b[0m\u001b[37m\u001b[0m \u001b[1m0s\u001b[0m 58ms/step - loss: 7.7284\n",
            "Epoch 5/5\n",
            "\u001b[1m1/1\u001b[0m \u001b[32m━━━━━━━━━━━━━━━━━━━━\u001b[0m\u001b[37m\u001b[0m \u001b[1m0s\u001b[0m 41ms/step - loss: 7.7296\n"
          ]
        }
      ],
      "source": [
        "import tensorflow as tf\n",
        "from tensorflow.keras.models import Sequential\n",
        "from tensorflow.keras.layers import GRU, Dense,Embedding\n",
        "import numpy as np\n",
        "from tensorflow.keras.preprocessing.text import Tokenizer\n",
        "from tensorflow.keras.preprocessing.sequence import pad_sequences\n",
        "# User inputs for dimensions\n",
        "num_sequences = int(input(\"Enter the number of sequences: \"))\n",
        "time_frames = int(input(\"Enter the number of time frames per sequence: \")) #number of words in a sequence\n",
        "input_size = int(input(\"Enter the input size: \")) #representation of one word\n",
        "hidden_size = int(input(\"Enter the hidden size: \"))\n",
        "\n",
        "# Create a dummy input tensor to fit the model to the user-defined dimensions\n",
        "# dummy_input = np.random.rand(num_sequences, time_frames, input_size)\n",
        "\n",
        "text_sequences = []\n",
        "for i in range(num_sequences):\n",
        "    sequence = input(f\"Enter words for sequence {i+1}: \")\n",
        "    text_sequences.append(sequence)\n",
        "\n",
        "# Step 2: Tokenize and Convert Words to Sequences\n",
        "tokenizer = Tokenizer()\n",
        "tokenizer.fit_on_texts(text_sequences)\n",
        "sequences = tokenizer.texts_to_sequences(text_sequences)\n",
        "\n",
        "print(\"Word Index (Tokenization):\")\n",
        "for word, index in tokenizer.word_index.items():\n",
        "    print(f\"Word: {word} - Token: {index}\")\n",
        "\n",
        "print(\"\\nSequences of Tokens:\")\n",
        "for i, seq in enumerate(sequences):\n",
        "    print(f\"Sequence {i+1}: {seq}\")\n",
        "\n",
        "# Pad sequences to ensure they have the same length (number of time frames)\n",
        "vocabulary_size = len(tokenizer.word_index) + 1  # Vocabulary size\n",
        "padded_sequences = pad_sequences(sequences, maxlen=time_frames, padding='post')\n",
        "\n",
        "print(\"\\nPadded Sequences of Tokens:\")\n",
        "for i, padded_seq in enumerate(padded_sequences):\n",
        "    print(f\"Sequence {i+1}: {padded_seq}\")\n",
        "\n",
        "print(\"\\nVocabulary Size:\", vocabulary_size)\n",
        "\n",
        "file_path = '/content/txt/inputs.txt'  # Replace with your actual file path\n",
        "\n",
        "# Append padded sequences to the existing text file\n",
        "with open(file_path, 'w') as file:\n",
        "    for sequence in padded_sequences:\n",
        "        # Convert each sequence to a space-separated string of integers\n",
        "        sequence_str = ' '.join(map(str, sequence))\n",
        "        # Write the string to the file\n",
        "        file.write(sequence_str+\" \")\n",
        "\n",
        "# Define the output dimension\n",
        "output_dim= vocabulary_size\n",
        "# Step 3: Define the GRU Model\n",
        "model = Sequential()\n",
        "model.add(Embedding(input_dim=vocabulary_size, output_dim=input_size, input_length=time_frames))\n",
        "model.add(GRU(hidden_size, return_sequences=True))  # `hidden_size` should be defined based on your GRU requirements\n",
        "model.add(Dense(output_dim, activation='softmax'))  # `output_dim` should be defined based on your task\n",
        "\n",
        "# Compile and fit the model (dummy data used here)\n",
        "model.compile(optimizer='adam', loss='categorical_crossentropy')\n",
        "dummy_labels = np.random.randint(0, output_dim, size=(num_sequences, time_frames,output_dim)) #need to keep original labels for real training\n",
        "model.fit(padded_sequences, dummy_labels, epochs=5)\n",
        "\n",
        "# Extract and save the weights as before\n",
        "gru_layer = model.layers[1]\n",
        "weights = gru_layer.get_weights()\n",
        "# Save the weights as shown in part (a)\n",
        "\n",
        "# Unpack weights into the corresponding matrices\n",
        "U = weights[0]  # U_z, U_r, U_h combined\n",
        "W = weights[1]  # W_z, W_r, W_h combined\n",
        "b = weights[2]  # b_z, b_r, b_h combined\n",
        "\n",
        "\n",
        "# Split weights into individual components\n",
        "U_z, U_r, U_h = np.split(U, 3, axis=1)\n",
        "W_z, W_r, W_h = np.split(W, 3, axis=1)\n",
        "b_z, b_r, b_h = np.split(b, 3, axis=1)\n",
        "\n",
        "# Save each component to a separate text file\n",
        "np.savetxt('./txt/U_z.txt', U_z)\n",
        "np.savetxt('./txt/U_r.txt', U_r)\n",
        "np.savetxt('./txt/U_h.txt', U_h)\n",
        "np.savetxt('./txt/W_z.txt', W_z)\n",
        "np.savetxt('./txt/W_r.txt', W_r)\n",
        "np.savetxt('./txt/W_h.txt', W_h)\n",
        "np.savetxt('./txt/b_z.txt', b_z)\n",
        "np.savetxt('./txt/b_r.txt', b_r)\n",
        "np.savetxt('./txt/b_h.txt', b_h)"
      ]
    },
    {
      "cell_type": "code",
      "source": [
        "!mkdir txt"
      ],
      "metadata": {
        "id": "ETu05Y6IreQV"
      },
      "execution_count": null,
      "outputs": []
    },
    {
      "cell_type": "code",
      "source": [
        "import shutil\n",
        "\n",
        "# Zip the folder\n",
        "shutil.make_archive('/content/txt', 'zip', '/content/txt')\n",
        "from google.colab import files\n",
        "\n",
        "# Download the zipped folder\n",
        "files.download('/content/txt.zip')\n"
      ],
      "metadata": {
        "colab": {
          "base_uri": "https://localhost:8080/",
          "height": 17
        },
        "id": "gScqbt1SrldT",
        "outputId": "415a17fa-0e67-4eb0-a90e-de2f5761bd1e"
      },
      "execution_count": null,
      "outputs": [
        {
          "output_type": "display_data",
          "data": {
            "text/plain": [
              "<IPython.core.display.Javascript object>"
            ],
            "application/javascript": [
              "\n",
              "    async function download(id, filename, size) {\n",
              "      if (!google.colab.kernel.accessAllowed) {\n",
              "        return;\n",
              "      }\n",
              "      const div = document.createElement('div');\n",
              "      const label = document.createElement('label');\n",
              "      label.textContent = `Downloading \"${filename}\": `;\n",
              "      div.appendChild(label);\n",
              "      const progress = document.createElement('progress');\n",
              "      progress.max = size;\n",
              "      div.appendChild(progress);\n",
              "      document.body.appendChild(div);\n",
              "\n",
              "      const buffers = [];\n",
              "      let downloaded = 0;\n",
              "\n",
              "      const channel = await google.colab.kernel.comms.open(id);\n",
              "      // Send a message to notify the kernel that we're ready.\n",
              "      channel.send({})\n",
              "\n",
              "      for await (const message of channel.messages) {\n",
              "        // Send a message to notify the kernel that we're ready.\n",
              "        channel.send({})\n",
              "        if (message.buffers) {\n",
              "          for (const buffer of message.buffers) {\n",
              "            buffers.push(buffer);\n",
              "            downloaded += buffer.byteLength;\n",
              "            progress.value = downloaded;\n",
              "          }\n",
              "        }\n",
              "      }\n",
              "      const blob = new Blob(buffers, {type: 'application/binary'});\n",
              "      const a = document.createElement('a');\n",
              "      a.href = window.URL.createObjectURL(blob);\n",
              "      a.download = filename;\n",
              "      div.appendChild(a);\n",
              "      a.click();\n",
              "      div.remove();\n",
              "    }\n",
              "  "
            ]
          },
          "metadata": {}
        },
        {
          "output_type": "display_data",
          "data": {
            "text/plain": [
              "<IPython.core.display.Javascript object>"
            ],
            "application/javascript": [
              "download(\"download_131612bd-9733-4ee4-8f10-6b7d8ca5bd10\", \"txt.zip\", 1936)"
            ]
          },
          "metadata": {}
        }
      ]
    }
  ]
}